{
 "cells": [
  {
   "cell_type": "markdown",
   "id": "53b88e6c-55d1-4836-9f0c-73605c638814",
   "metadata": {
    "tags": []
   },
   "source": [
    "# Data Science Tools and Ecosystem"
   ]
  },
  {
   "cell_type": "markdown",
   "id": "82f7e819-bb4f-487e-a3f7-af520baab0b2",
   "metadata": {
    "tags": []
   },
   "source": [
    "This notebook contains the different exercises required to validate the final assignment for the Tools for Data Science course."
   ]
  },
  {
   "cell_type": "markdown",
   "id": "da393f89-6fe2-4606-ab76-ad9e02374e4c",
   "metadata": {},
   "source": [
    "**Objectives:**\n",
    "- List popular languages for Data Science\n",
    "- List common libraries used by Data Scientists\n",
    "- List popular Data Science tools"
   ]
  },
  {
   "cell_type": "markdown",
   "id": "ba74e336-1177-4acf-b22e-58f46524d4e7",
   "metadata": {
    "tags": []
   },
   "source": [
    "Some of the popular languages that Data Scientists use are:\n",
    "1. Python\n",
    "2. R\n",
    "3. SQL\n",
    "4. Scala"
   ]
  },
  {
   "cell_type": "markdown",
   "id": "074b65bb-58f4-4e22-824d-8135243050e8",
   "metadata": {
    "tags": []
   },
   "source": [
    "Some of the commonly used libraries used by Data Scientists include:\n",
    "1. Pandas\n",
    "2. Numpy\n",
    "3. Scikit Learn\n",
    "4. Keras"
   ]
  },
  {
   "cell_type": "markdown",
   "id": "0d16dfd1-dba4-4e6b-b464-72a7a52d1e89",
   "metadata": {},
   "source": [
    "\n",
    "| Data Science Tools |\n",
    "|:-------------------|\n",
    "| JupyterLab         |\n",
    "| Watson Studio      |\n",
    "| R Studio           |"
   ]
  },
  {
   "cell_type": "markdown",
   "id": "3e7fd6b1-24ae-479c-8d7c-2d43acfd3ec9",
   "metadata": {
    "tags": []
   },
   "source": [
    "### Below are a few examples of evaluating arithmetic expressions in Python"
   ]
  },
  {
   "cell_type": "code",
   "execution_count": 7,
   "id": "a5b9e164-3894-4532-b10e-67741f7d631f",
   "metadata": {
    "tags": []
   },
   "outputs": [
    {
     "data": {
      "text/plain": [
       "17"
      ]
     },
     "execution_count": 7,
     "metadata": {},
     "output_type": "execute_result"
    }
   ],
   "source": [
    "# This a simple arithmetic expression to mutiply then add integers\n",
    "(3*4)+5"
   ]
  },
  {
   "cell_type": "code",
   "execution_count": 9,
   "id": "ca89fc75-42a7-4fee-9aac-06b837a0dc67",
   "metadata": {
    "tags": []
   },
   "outputs": [
    {
     "data": {
      "text/plain": [
       "3.3333333333333335"
      ]
     },
     "execution_count": 9,
     "metadata": {},
     "output_type": "execute_result"
    }
   ],
   "source": [
    "# This will convert 200 minutes to hours by diving by 60\n",
    "200.0/60.0"
   ]
  },
  {
   "cell_type": "markdown",
   "id": "b0f439d0-f092-4027-b081-98c4488dea37",
   "metadata": {
    "tags": []
   },
   "source": [
    "## Author\n",
    "Jonathan Caillaux"
   ]
  },
  {
   "cell_type": "code",
   "execution_count": null,
   "id": "5c36f174-3dd2-4217-8753-1ae1b77954b6",
   "metadata": {},
   "outputs": [],
   "source": []
  }
 ],
 "metadata": {
  "kernelspec": {
   "display_name": "Python",
   "language": "python",
   "name": "conda-env-python-py"
  },
  "language_info": {
   "codemirror_mode": {
    "name": "ipython",
    "version": 3
   },
   "file_extension": ".py",
   "mimetype": "text/x-python",
   "name": "python",
   "nbconvert_exporter": "python",
   "pygments_lexer": "ipython3",
   "version": "3.7.12"
  }
 },
 "nbformat": 4,
 "nbformat_minor": 5
}
